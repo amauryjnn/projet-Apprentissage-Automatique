{
 "cells": [
  {
   "cell_type": "markdown",
   "id": "a50e048e",
   "metadata": {},
   "source": [
    "# Classification d'acceptation de prêts"
   ]
  },
  {
   "cell_type": "markdown",
   "id": "d64b941a",
   "metadata": {},
   "source": [
    "## Introduction\n",
    "\n",
    "Ce dataset décrit 45000 cas de demande de prêts en fonction de critères et d'informations sur le potentiel emprunteur."
   ]
  },
  {
   "cell_type": "code",
   "execution_count": 28,
   "id": "0a94860c",
   "metadata": {},
   "outputs": [
    {
     "name": "stdout",
     "output_type": "stream",
     "text": [
      "Répertoire actuel : /Users/amauryjanin/Library/Mobile Documents/com~apple~CloudDocs/Documents/IMT atlantique/TAF 2A/IA UE D/Projet AAA\n",
      "Répertoire de travail : /Users/amauryjanin/Library/Mobile Documents/com~apple~CloudDocs/Documents/IMT atlantique/TAF 2A/IA UE D/Projet AAA\n"
     ]
    }
   ],
   "source": [
    "import os\n",
    "import sys\n",
    "\n",
    "# Obtenir le chemin du notebook\n",
    "notebook_path = os.path.abspath('')\n",
    "print(f\"Répertoire actuel : {notebook_path}\")\n",
    "\n",
    "# Se placer dans le répertoire du notebook\n",
    "os.chdir(notebook_path)\n",
    "\n",
    "# Vérifier le chemin\n",
    "print(f\"Répertoire de travail : {os.getcwd()}\")"
   ]
  },
  {
   "cell_type": "markdown",
   "id": "5c8d77fc",
   "metadata": {},
   "source": [
    "La description de l'emprunteur est donnée par :"
   ]
  },
  {
   "cell_type": "code",
   "execution_count": 29,
   "id": "a117303b",
   "metadata": {},
   "outputs": [
    {
     "name": "stdout",
     "output_type": "stream",
     "text": [
      "<class 'pandas.core.frame.DataFrame'>\n",
      "RangeIndex: 45000 entries, 0 to 44999\n",
      "Data columns (total 14 columns):\n",
      " #   Column                          Non-Null Count  Dtype  \n",
      "---  ------                          --------------  -----  \n",
      " 0   person_age                      45000 non-null  float64\n",
      " 1   person_gender                   45000 non-null  object \n",
      " 2   person_education                45000 non-null  object \n",
      " 3   person_income                   45000 non-null  float64\n",
      " 4   person_emp_exp                  45000 non-null  int64  \n",
      " 5   person_home_ownership           45000 non-null  object \n",
      " 6   loan_amnt                       45000 non-null  float64\n",
      " 7   loan_intent                     45000 non-null  object \n",
      " 8   loan_int_rate                   45000 non-null  float64\n",
      " 9   loan_percent_income             45000 non-null  float64\n",
      " 10  cb_person_cred_hist_length      45000 non-null  float64\n",
      " 11  credit_score                    45000 non-null  int64  \n",
      " 12  previous_loan_defaults_on_file  45000 non-null  object \n",
      " 13  loan_status                     45000 non-null  int64  \n",
      "dtypes: float64(6), int64(3), object(5)\n",
      "memory usage: 4.8+ MB\n"
     ]
    }
   ],
   "source": [
    "import pandas as pd\n",
    "df = pd.read_csv(\"loan_data.csv\")\n",
    "df.info()"
   ]
  },
  {
   "cell_type": "code",
   "execution_count": 30,
   "id": "186d5092",
   "metadata": {},
   "outputs": [
    {
     "name": "stdout",
     "output_type": "stream",
     "text": [
      "                        Column                                       Description             Type\n",
      "                    person_age                                 Age of the person            Float\n",
      "                 person_gender                              Gender of the person      Categorical\n",
      "              person_education                           Highest education level      Categorical\n",
      "                 person_income                                     Annual income            Float\n",
      "                person_emp_exp                    Years of employment experience          Integer\n",
      "         person_home_ownership Home ownership status (e.g., rent, own, mortgage)      Categorical\n",
      "                     loan_amnt                             Loan amount requested            Float\n",
      "                   loan_intent                               Purpose of the loan      Categorical\n",
      "                 loan_int_rate                                Loan interest rate            Float\n",
      "           loan_percent_income      Loan amount as a percentage of annual income            Float\n",
      "    cb_person_cred_hist_length                 Length of credit history in years            Float\n",
      "                  credit_score                        Credit score of the person          Integer\n",
      "previous_loan_defaults_on_file               Indicator of previous loan defaults      Categorical\n",
      "                   loan_status  Loan approval status: 1 = approved; 0 = rejected Integer (Target)\n"
     ]
    }
   ],
   "source": [
    "# Créer un DataFrame avec les informations des colonnes\n",
    "colonnes_info = {\n",
    "    'Column': [\n",
    "        'person_age',\n",
    "        'person_gender',\n",
    "        'person_education',\n",
    "        'person_income',\n",
    "        'person_emp_exp',\n",
    "        'person_home_ownership',\n",
    "        'loan_amnt',\n",
    "        'loan_intent',\n",
    "        'loan_int_rate',\n",
    "        'loan_percent_income',\n",
    "        'cb_person_cred_hist_length',\n",
    "        'credit_score',\n",
    "        'previous_loan_defaults_on_file',\n",
    "        'loan_status'\n",
    "    ],\n",
    "    'Description': [\n",
    "        'Age of the person',\n",
    "        'Gender of the person',\n",
    "        'Highest education level',\n",
    "        'Annual income',\n",
    "        'Years of employment experience',\n",
    "        'Home ownership status (e.g., rent, own, mortgage)',\n",
    "        'Loan amount requested',\n",
    "        'Purpose of the loan',\n",
    "        'Loan interest rate',\n",
    "        'Loan amount as a percentage of annual income',\n",
    "        'Length of credit history in years',\n",
    "        'Credit score of the person',\n",
    "        'Indicator of previous loan defaults',\n",
    "        'Loan approval status: 1 = approved; 0 = rejected'\n",
    "    ],\n",
    "    'Type': [\n",
    "        'Float',\n",
    "        'Categorical',\n",
    "        'Categorical',\n",
    "        'Float',\n",
    "        'Integer',\n",
    "        'Categorical',\n",
    "        'Float',\n",
    "        'Categorical',\n",
    "        'Float',\n",
    "        'Float',\n",
    "        'Float',\n",
    "        'Integer',\n",
    "        'Categorical',\n",
    "        'Integer (Target)'\n",
    "    ]\n",
    "}\n",
    "\n",
    "info_df = pd.DataFrame(colonnes_info)\n",
    "print(info_df.to_string(index=False))"
   ]
  },
  {
   "cell_type": "code",
   "execution_count": 31,
   "id": "176d38dd",
   "metadata": {},
   "outputs": [
    {
     "data": {
      "text/html": [
       "<div>\n",
       "<style scoped>\n",
       "    .dataframe tbody tr th:only-of-type {\n",
       "        vertical-align: middle;\n",
       "    }\n",
       "\n",
       "    .dataframe tbody tr th {\n",
       "        vertical-align: top;\n",
       "    }\n",
       "\n",
       "    .dataframe thead th {\n",
       "        text-align: right;\n",
       "    }\n",
       "</style>\n",
       "<table border=\"1\" class=\"dataframe\">\n",
       "  <thead>\n",
       "    <tr style=\"text-align: right;\">\n",
       "      <th></th>\n",
       "      <th>person_age</th>\n",
       "      <th>person_income</th>\n",
       "      <th>person_emp_exp</th>\n",
       "      <th>loan_amnt</th>\n",
       "      <th>loan_int_rate</th>\n",
       "      <th>loan_percent_income</th>\n",
       "      <th>cb_person_cred_hist_length</th>\n",
       "      <th>credit_score</th>\n",
       "      <th>loan_status</th>\n",
       "    </tr>\n",
       "  </thead>\n",
       "  <tbody>\n",
       "    <tr>\n",
       "      <th>count</th>\n",
       "      <td>45000.000000</td>\n",
       "      <td>4.500000e+04</td>\n",
       "      <td>45000.000000</td>\n",
       "      <td>45000.000000</td>\n",
       "      <td>45000.000000</td>\n",
       "      <td>45000.000000</td>\n",
       "      <td>45000.000000</td>\n",
       "      <td>45000.000000</td>\n",
       "      <td>45000.000000</td>\n",
       "    </tr>\n",
       "    <tr>\n",
       "      <th>mean</th>\n",
       "      <td>27.764178</td>\n",
       "      <td>8.031905e+04</td>\n",
       "      <td>5.410333</td>\n",
       "      <td>9583.157556</td>\n",
       "      <td>11.006606</td>\n",
       "      <td>0.139725</td>\n",
       "      <td>5.867489</td>\n",
       "      <td>632.608756</td>\n",
       "      <td>0.222222</td>\n",
       "    </tr>\n",
       "    <tr>\n",
       "      <th>std</th>\n",
       "      <td>6.045108</td>\n",
       "      <td>8.042250e+04</td>\n",
       "      <td>6.063532</td>\n",
       "      <td>6314.886691</td>\n",
       "      <td>2.978808</td>\n",
       "      <td>0.087212</td>\n",
       "      <td>3.879702</td>\n",
       "      <td>50.435865</td>\n",
       "      <td>0.415744</td>\n",
       "    </tr>\n",
       "    <tr>\n",
       "      <th>min</th>\n",
       "      <td>20.000000</td>\n",
       "      <td>8.000000e+03</td>\n",
       "      <td>0.000000</td>\n",
       "      <td>500.000000</td>\n",
       "      <td>5.420000</td>\n",
       "      <td>0.000000</td>\n",
       "      <td>2.000000</td>\n",
       "      <td>390.000000</td>\n",
       "      <td>0.000000</td>\n",
       "    </tr>\n",
       "    <tr>\n",
       "      <th>25%</th>\n",
       "      <td>24.000000</td>\n",
       "      <td>4.720400e+04</td>\n",
       "      <td>1.000000</td>\n",
       "      <td>5000.000000</td>\n",
       "      <td>8.590000</td>\n",
       "      <td>0.070000</td>\n",
       "      <td>3.000000</td>\n",
       "      <td>601.000000</td>\n",
       "      <td>0.000000</td>\n",
       "    </tr>\n",
       "    <tr>\n",
       "      <th>50%</th>\n",
       "      <td>26.000000</td>\n",
       "      <td>6.704800e+04</td>\n",
       "      <td>4.000000</td>\n",
       "      <td>8000.000000</td>\n",
       "      <td>11.010000</td>\n",
       "      <td>0.120000</td>\n",
       "      <td>4.000000</td>\n",
       "      <td>640.000000</td>\n",
       "      <td>0.000000</td>\n",
       "    </tr>\n",
       "    <tr>\n",
       "      <th>75%</th>\n",
       "      <td>30.000000</td>\n",
       "      <td>9.578925e+04</td>\n",
       "      <td>8.000000</td>\n",
       "      <td>12237.250000</td>\n",
       "      <td>12.990000</td>\n",
       "      <td>0.190000</td>\n",
       "      <td>8.000000</td>\n",
       "      <td>670.000000</td>\n",
       "      <td>0.000000</td>\n",
       "    </tr>\n",
       "    <tr>\n",
       "      <th>max</th>\n",
       "      <td>144.000000</td>\n",
       "      <td>7.200766e+06</td>\n",
       "      <td>125.000000</td>\n",
       "      <td>35000.000000</td>\n",
       "      <td>20.000000</td>\n",
       "      <td>0.660000</td>\n",
       "      <td>30.000000</td>\n",
       "      <td>850.000000</td>\n",
       "      <td>1.000000</td>\n",
       "    </tr>\n",
       "  </tbody>\n",
       "</table>\n",
       "</div>"
      ],
      "text/plain": [
       "         person_age  person_income  person_emp_exp     loan_amnt  \\\n",
       "count  45000.000000   4.500000e+04    45000.000000  45000.000000   \n",
       "mean      27.764178   8.031905e+04        5.410333   9583.157556   \n",
       "std        6.045108   8.042250e+04        6.063532   6314.886691   \n",
       "min       20.000000   8.000000e+03        0.000000    500.000000   \n",
       "25%       24.000000   4.720400e+04        1.000000   5000.000000   \n",
       "50%       26.000000   6.704800e+04        4.000000   8000.000000   \n",
       "75%       30.000000   9.578925e+04        8.000000  12237.250000   \n",
       "max      144.000000   7.200766e+06      125.000000  35000.000000   \n",
       "\n",
       "       loan_int_rate  loan_percent_income  cb_person_cred_hist_length  \\\n",
       "count   45000.000000         45000.000000                45000.000000   \n",
       "mean       11.006606             0.139725                    5.867489   \n",
       "std         2.978808             0.087212                    3.879702   \n",
       "min         5.420000             0.000000                    2.000000   \n",
       "25%         8.590000             0.070000                    3.000000   \n",
       "50%        11.010000             0.120000                    4.000000   \n",
       "75%        12.990000             0.190000                    8.000000   \n",
       "max        20.000000             0.660000                   30.000000   \n",
       "\n",
       "       credit_score   loan_status  \n",
       "count  45000.000000  45000.000000  \n",
       "mean     632.608756      0.222222  \n",
       "std       50.435865      0.415744  \n",
       "min      390.000000      0.000000  \n",
       "25%      601.000000      0.000000  \n",
       "50%      640.000000      0.000000  \n",
       "75%      670.000000      0.000000  \n",
       "max      850.000000      1.000000  "
      ]
     },
     "execution_count": 31,
     "metadata": {},
     "output_type": "execute_result"
    }
   ],
   "source": [
    "df.describe()"
   ]
  },
  {
   "cell_type": "code",
   "execution_count": 32,
   "id": "43da01d7",
   "metadata": {},
   "outputs": [
    {
     "data": {
      "text/plain": [
       "person_age  person_gender  person_education  person_income  person_emp_exp  person_home_ownership  loan_amnt  loan_intent  loan_int_rate  loan_percent_income  cb_person_cred_hist_length  credit_score  previous_loan_defaults_on_file  loan_status\n",
       "20.0        female         Associate         42674.0        0               RENT                   7000.0     MEDICAL      13.61          0.16                 2.0                         636           Yes                             0              1\n",
       "29.0        female         Associate         53840.0        7               MORTGAGE               24000.0    MEDICAL      6.91           0.45                 8.0                         680           Yes                             0              1\n",
       "                                             51488.0        7               RENT                   1600.0     VENTURE      19.16          0.03                 6.0                         526           Yes                             0              1\n",
       "                                             51643.0        8               RENT                   15000.0    PERSONAL     14.25          0.29                 9.0                         511           No                              1              1\n",
       "                                             52465.0        4               RENT                   1200.0     MEDICAL      11.43          0.02                 6.0                         656           Yes                             0              1\n",
       "                                                                                                                                                                                                                                                       ..\n",
       "24.0        male           High School       60838.0        0               RENT                   15000.0    MEDICAL      6.92           0.25                 3.0                         558           Yes                             0              1\n",
       "                                                            5               RENT                   8000.0     EDUCATION    7.96           0.13                 4.0                         560           Yes                             0              1\n",
       "                                             60860.0        0               RENT                   8000.0     PERSONAL     15.39          0.13                 3.0                         612           Yes                             0              1\n",
       "                                             60883.0        1               MORTGAGE               3000.0     EDUCATION    7.66           0.05                 2.0                         638           Yes                             0              1\n",
       "144.0       male           Bachelor          300616.0       125             RENT                   4800.0     VENTURE      13.57          0.02                 3.0                         789           No                              0              1\n",
       "Name: count, Length: 45000, dtype: int64"
      ]
     },
     "execution_count": 32,
     "metadata": {},
     "output_type": "execute_result"
    }
   ],
   "source": [
    "df.value_counts()"
   ]
  },
  {
   "cell_type": "code",
   "execution_count": 33,
   "id": "f087f431",
   "metadata": {},
   "outputs": [
    {
     "name": "stdout",
     "output_type": "stream",
     "text": [
      "Nombre de valeurs uniques par feature :\n",
      "person_age                           60\n",
      "person_gender                         2\n",
      "person_education                      5\n",
      "person_income                     33989\n",
      "person_emp_exp                       63\n",
      "person_home_ownership                 4\n",
      "loan_amnt                          4483\n",
      "loan_intent                           6\n",
      "loan_int_rate                      1302\n",
      "loan_percent_income                  64\n",
      "cb_person_cred_hist_length           29\n",
      "credit_score                        340\n",
      "previous_loan_defaults_on_file        2\n",
      "loan_status                           2\n",
      "dtype: int64\n"
     ]
    }
   ],
   "source": [
    "print(\"Nombre de valeurs uniques par feature :\")\n",
    "print(df.nunique())"
   ]
  },
  {
   "cell_type": "markdown",
   "id": "4aebd14a",
   "metadata": {},
   "source": [
    "## Gestion des variables qualitatives\n",
    "\n",
    "La dataset contient plusieurs valeurs qualitative :\n",
    "- le genre\n",
    "- l'éducation\n",
    "- le statut de résidence primaire\n",
    "- le motif d'emprunt\n",
    "- le défaut de crédit sur les anciens emprunts\n",
    "\n",
    "On va donc utiliser la classe LabelEncoder pour transformer ces varaibles qualitative en données numériques. Il faudra peut être classer les 6 différents cas d'éducations de manière qualitative"
   ]
  },
  {
   "cell_type": "code",
   "execution_count": 37,
   "id": "b1feff82",
   "metadata": {},
   "outputs": [
    {
     "name": "stdout",
     "output_type": "stream",
     "text": [
      "\n",
      "person_gender:\n",
      "  female -> 0\n",
      "  male -> 1\n",
      "\n",
      "person_education:\n",
      "  Associate -> 0\n",
      "  Bachelor -> 1\n",
      "  Doctorate -> 2\n",
      "  High School -> 3\n",
      "  Master -> 4\n",
      "\n",
      "person_home_ownership:\n",
      "  MORTGAGE -> 0\n",
      "  OTHER -> 1\n",
      "  OWN -> 2\n",
      "  RENT -> 3\n",
      "\n",
      "loan_intent:\n",
      "  DEBTCONSOLIDATION -> 0\n",
      "  EDUCATION -> 1\n",
      "  HOMEIMPROVEMENT -> 2\n",
      "  MEDICAL -> 3\n",
      "  PERSONAL -> 4\n",
      "  VENTURE -> 5\n",
      "\n",
      "previous_loan_defaults_on_file:\n",
      "  No -> 0\n",
      "  Yes -> 1\n",
      "\n",
      "\n",
      "Premières lignes après encodage:\n",
      "   person_age  person_gender  person_education  person_income  person_emp_exp  \\\n",
      "0        22.0              0                 4        71948.0               0   \n",
      "1        21.0              0                 3        12282.0               0   \n",
      "2        25.0              0                 3        12438.0               3   \n",
      "3        23.0              0                 1        79753.0               0   \n",
      "4        24.0              1                 4        66135.0               1   \n",
      "\n",
      "   person_home_ownership  loan_amnt  loan_intent  loan_int_rate  \\\n",
      "0                      3    35000.0            4          16.02   \n",
      "1                      2     1000.0            1          11.14   \n",
      "2                      0     5500.0            3          12.87   \n",
      "3                      3    35000.0            3          15.23   \n",
      "4                      3    35000.0            3          14.27   \n",
      "\n",
      "   loan_percent_income  cb_person_cred_hist_length  credit_score  \\\n",
      "0                 0.49                         3.0           561   \n",
      "1                 0.08                         2.0           504   \n",
      "2                 0.44                         3.0           635   \n",
      "3                 0.44                         2.0           675   \n",
      "4                 0.53                         4.0           586   \n",
      "\n",
      "   previous_loan_defaults_on_file  loan_status  gender  \n",
      "0                               0            1       0  \n",
      "1                               1            0       0  \n",
      "2                               0            1       0  \n",
      "3                               0            1       0  \n",
      "4                               0            1       0  \n"
     ]
    }
   ],
   "source": [
    "from sklearn.preprocessing import LabelEncoder\n",
    "\n",
    "# Créer une copie du dataframe pour préserver l'original\n",
    "df_encoded = df.copy()\n",
    "\n",
    "# Liste des colonnes catégorielles à encoder\n",
    "categorical_columns = ['person_gender', 'person_education', 'person_home_ownership', \n",
    "                       'loan_intent', 'previous_loan_defaults_on_file']\n",
    "\n",
    "# Créer un dictionnaire pour stocker les encoders (utile pour le décodage ultérieur)\n",
    "label_encoders = {}\n",
    "\n",
    "# Encoder chaque colonne catégorielle\n",
    "for col in categorical_columns:\n",
    "    le = LabelEncoder()\n",
    "    df_encoded[col] = le.fit_transform(df[col])\n",
    "    label_encoders[col] = le\n",
    "    \n",
    "    # Afficher le mapping pour comprendre l'encodage\n",
    "    print(f\"\\n{col}:\")\n",
    "    for i, label in enumerate(le.classes_):\n",
    "        print(f\"  {label} -> {i}\")\n",
    "\n",
    "# Afficher les premières lignes pour vérifier\n",
    "print(\"\\n\\nPremières lignes après encodage:\")\n",
    "print(df_encoded.head())"
   ]
  },
  {
   "cell_type": "markdown",
   "id": "c51d5314",
   "metadata": {},
   "source": [
    "On observe que pour les diplômes, ceux-ci peuvent être classés de manière croissante. Puisque LabelEncoder associe un numéro aléatoire à chacun des diplomes, rien n'empêche de les classer selon nos préférences et on peut supposer (à tort peut être) une relation entre certains features."
   ]
  },
  {
   "cell_type": "code",
   "execution_count": 38,
   "id": "2095f96c",
   "metadata": {},
   "outputs": [
    {
     "name": "stdout",
     "output_type": "stream",
     "text": [
      "Mapping de person_education:\n",
      "  High School -> 0\n",
      "  Associate -> 1\n",
      "  Bachelor -> 2\n",
      "  Master -> 3\n",
      "  Doctorate -> 4\n",
      "\n",
      "Distribution après encodage:\n",
      "person_education\n",
      "0    11972\n",
      "1    12028\n",
      "2    13399\n",
      "3     6980\n",
      "4      621\n",
      "Name: count, dtype: int64\n"
     ]
    }
   ],
   "source": [
    "# Mapping ordinal pour person_education\n",
    "education_mapping = {\n",
    "    'High School': 0,\n",
    "    'Associate': 1,      # Diplôme de 2 ans après high school (community college)\n",
    "    'Bachelor': 2,       # Licence (4 ans)\n",
    "    'Master': 3,         # Master\n",
    "    'Doctorate': 4       # Doctorat\n",
    "}\n",
    "\n",
    "# Appliquer le mapping\n",
    "df_encoded['person_education'] = df['person_education'].map(education_mapping)\n",
    "\n",
    "# Vérifier le mapping\n",
    "print(\"Mapping de person_education:\")\n",
    "for key, value in education_mapping.items():\n",
    "    print(f\"  {key} -> {value}\")\n",
    "\n",
    "print(\"\\nDistribution après encodage:\")\n",
    "print(df_encoded['person_education'].value_counts().sort_index())"
   ]
  },
  {
   "cell_type": "code",
   "execution_count": 41,
   "id": "62afcaa7",
   "metadata": {},
   "outputs": [
    {
     "name": "stdout",
     "output_type": "stream",
     "text": [
      "count    4.500000e+04\n",
      "mean     8.031905e+04\n",
      "std      8.042250e+04\n",
      "min      8.000000e+03\n",
      "25%      4.720400e+04\n",
      "50%      6.704800e+04\n",
      "75%      9.578925e+04\n",
      "max      7.200766e+06\n",
      "Name: person_income, dtype: float64\n",
      "[ 71948.  12282.  12438.  79753.  66135.  12951.  93471.  95550. 100684.\n",
      "  12739. 102985.  13113. 114860. 130713. 138998. 600891. 144943. 111369.\n",
      " 136628.  14283.]\n"
     ]
    }
   ],
   "source": [
    "print(df_encoded['person_income'].describe())\n",
    "print(df_encoded['person_income'].unique()[:20])"
   ]
  },
  {
   "cell_type": "markdown",
   "id": "9cfac851",
   "metadata": {},
   "source": [
    "Regardons les différentes corrélations :"
   ]
  },
  {
   "cell_type": "code",
   "execution_count": 40,
   "id": "19a95513",
   "metadata": {},
   "outputs": [
    {
     "data": {
      "text/plain": [
       "array([[<Axes: xlabel='person_education', ylabel='person_education'>,\n",
       "        <Axes: xlabel='person_income', ylabel='person_education'>],\n",
       "       [<Axes: xlabel='person_education', ylabel='person_income'>,\n",
       "        <Axes: xlabel='person_income', ylabel='person_income'>]],\n",
       "      dtype=object)"
      ]
     },
     "execution_count": 40,
     "metadata": {},
     "output_type": "execute_result"
    },
    {
     "data": {
      "image/png": "[encoded data removed]",
      "text/plain": [
       "<Figure size 1200x800 with 4 Axes>"
      ]
     },
     "metadata": {},
     "output_type": "display_data"
    }
   ],
   "source": [
    "# 'pd' is already imported in another cell; use its plotting module to access scatter_matrix\n",
    "scatter_matrix = pd.plotting.scatter_matrix\n",
    "attributes = [\"person_education\", \"person_income\"]\n",
    "scatter_matrix(df_encoded[attributes],figsize=(12,8))"
   ]
  },
  {
   "cell_type": "markdown",
   "id": "d5089cf2",
   "metadata": {},
   "source": [
    "Peut être classer les motifs d'investissement en deux catégories suivant qu'ils sont subis ou souhaités... Plus tard pour améliorer."
   ]
  }
 ],
 "metadata": {
  "kernelspec": {
   "display_name": "Python 3",
   "language": "python",
   "name": "python3"
  },
  "language_info": {
   "codemirror_mode": {
    "name": "ipython",
    "version": 3
   },
   "file_extension": ".py",
   "mimetype": "text/x-python",
   "name": "python",
   "nbconvert_exporter": "python",
   "pygments_lexer": "ipython3",
   "version": "3.11.8"
  }
 },
 "nbformat": 4,
 "nbformat_minor": 5
}
